{
 "cells": [
  {
   "cell_type": "code",
   "execution_count": 1,
   "id": "9eebdfb0-e350-4fcf-80fb-92d403e0ddfe",
   "metadata": {
    "tags": []
   },
   "outputs": [],
   "source": [
    "import numpy as np"
   ]
  },
  {
   "cell_type": "code",
   "execution_count": 2,
   "id": "b7565cda-23ad-4482-ae68-1a5a829b1b0f",
   "metadata": {
    "tags": []
   },
   "outputs": [],
   "source": [
    "def Bracelet(x, t):\n",
    "    b = np.array(x, dtype = int)\n",
    "    for i in range (2, t): \n",
    "        bn = (b[-2] + b[-1])%10\n",
    "        b = np.append(b, bn)\n",
    "    return b        "
   ]
  },
  {
   "cell_type": "code",
   "execution_count": 3,
   "id": "16e30354-6277-4352-9291-0ab21f2ba7d6",
   "metadata": {
    "tags": []
   },
   "outputs": [
    {
     "data": {
      "text/plain": [
       "array([1, 5, 6, 1, 7, 8, 5, 3, 8, 1, 9, 0, 9, 9, 8, 7, 5, 2, 7, 9, 6, 5,\n",
       "       1, 6, 7, 3, 0, 3, 3, 6, 9, 5, 4, 9, 3, 2, 5, 7, 2, 9, 1, 0, 1, 1,\n",
       "       2, 3, 5, 8, 3, 1, 4, 5, 9, 4, 3, 7, 0, 7, 7, 4, 1, 5, 6, 1, 7, 8,\n",
       "       5, 3, 8, 1, 9, 0, 9, 9, 8, 7, 5, 2, 7, 9, 6, 5, 1, 6, 7, 3, 0, 3,\n",
       "       3, 6, 9, 5, 4, 9, 3, 2, 5, 7, 2, 9])"
      ]
     },
     "execution_count": 3,
     "metadata": {},
     "output_type": "execute_result"
    }
   ],
   "source": [
    "Bracelet([1,5],100)"
   ]
  },
  {
   "cell_type": "code",
   "execution_count": 4,
   "id": "7d368229-bf88-4040-8779-80a99384e570",
   "metadata": {
    "tags": []
   },
   "outputs": [],
   "source": [
    "def CreateBracelet(x):\n",
    "    # Create a bracelet starting with the given pair of numbers. \n",
    "    bracelet = list(x)\n",
    "    while True:\n",
    "        # Each new number in the bracelet is the sum of the last two numbers modulo 10.\n",
    "        next_num = (bracelet[-1] + bracelet[-2]) % 10\n",
    "        bracelet.append(next_num)\n",
    "        # Stop if the last two numbers of the bracelet are the same as the starting pair.\n",
    "        if bracelet[-2:] == x:\n",
    "            break\n",
    "    return bracelet"
   ]
  },
  {
   "cell_type": "code",
   "execution_count": 5,
   "id": "15d4802f-ba73-4b2f-a07a-91ac507005f7",
   "metadata": {
    "tags": []
   },
   "outputs": [],
   "source": [
    "#CreateBracelet([1,5])"
   ]
  },
  {
   "cell_type": "code",
   "execution_count": 6,
   "id": "48435a6f-9eb8-4c4e-9023-417ab1b356b7",
   "metadata": {
    "tags": []
   },
   "outputs": [],
   "source": [
    "def FindPairs(x, bracelet):\n",
    "    # Check if a pair of numbers is present in the bracelet.\n",
    "    return any(x == bracelet[i:i+2] for i in range(len(bracelet) - 1))"
   ]
  },
  {
   "cell_type": "code",
   "execution_count": 7,
   "id": "00f84f9f-52ec-4800-9779-497d6f89940a",
   "metadata": {
    "tags": []
   },
   "outputs": [],
   "source": [
    "def GenerateAllPairs():\n",
    "    # Generate all possible pairs of numbers from 0 to 9.\n",
    "    return [[i, j] for i in range(10) for j in range(10)]"
   ]
  },
  {
   "cell_type": "code",
   "execution_count": 8,
   "id": "2529be28-5fcc-4627-92b8-8a0991c3a6e5",
   "metadata": {
    "tags": []
   },
   "outputs": [],
   "source": [
    "def FindAllBracelets(pair):\n",
    "    all_pairs = GenerateAllPairs()\n",
    "    unused_pairs = set(map(tuple, all_pairs)) # Create a set of unused pairs for tracking.\n",
    "    count = 0 # Initialize count of bracelets \n",
    "    \n",
    "    # Continue until there are no more available pairs.\n",
    "    while unused_pairs:\n",
    "        # pair = list(unused_pairs.pop()) # Take and remove a pair from the unused pairs.\n",
    "        bracelet = CreateBracelet(pair) # Generate a bracelet using the pair.\n",
    "        count += 1\n",
    "        print(f\"Bracelet {count}: {bracelet}\\nNumber of pairs in this bracelet: {len(bracelet)-2}\")\n",
    "        \n",
    "        # Remove pairs found in the current bracelet from the set of unused pairs.\n",
    "        for i in range(len(all_pairs)):\n",
    "            if FindPairs(all_pairs[i], bracelet):\n",
    "                unused_pairs.discard(tuple(all_pairs[i]))\n",
    "                \n",
    "        if not unused_pairs:\n",
    "            break\n",
    "        else:\n",
    "            # Choosing the next haven't used pair.\n",
    "            pair = list(unused_pairs.pop())\n",
    "\n",
    "                \n",
    "    # Print the total number of unique bracelets found.\n",
    "    # Number of used pairs is the total pairs minus the remaining available pairs.\n",
    "    used_pairs_count = 100 - len(unused_pairs)\n",
    "    print(f\"There are {count} bracelets in total.\")\n",
    "    print(f\"Number of pairs that have been used: {used_pairs_count}\")"
   ]
  },
  {
   "cell_type": "code",
   "execution_count": 9,
   "id": "5b2c07c2-5e72-42e7-98bc-a4adbc4df233",
   "metadata": {
    "tags": []
   },
   "outputs": [
    {
     "name": "stdout",
     "output_type": "stream",
     "text": [
      "Bracelet 1: [1, 5, 6, 1, 7, 8, 5, 3, 8, 1, 9, 0, 9, 9, 8, 7, 5, 2, 7, 9, 6, 5, 1, 6, 7, 3, 0, 3, 3, 6, 9, 5, 4, 9, 3, 2, 5, 7, 2, 9, 1, 0, 1, 1, 2, 3, 5, 8, 3, 1, 4, 5, 9, 4, 3, 7, 0, 7, 7, 4, 1, 5]\n",
      "Number of pairs in this bracelet: 60\n",
      "Bracelet 2: [4, 0, 4, 4, 8, 2, 0, 2, 2, 4, 6, 0, 6, 6, 2, 8, 0, 8, 8, 6, 4, 0]\n",
      "Number of pairs in this bracelet: 20\n",
      "Bracelet 3: [8, 9, 7, 6, 3, 9, 2, 1, 3, 4, 7, 1, 8, 9]\n",
      "Number of pairs in this bracelet: 12\n",
      "Bracelet 4: [0, 5, 5, 0, 5]\n",
      "Number of pairs in this bracelet: 3\n",
      "Bracelet 5: [4, 2, 6, 8, 4, 2]\n",
      "Number of pairs in this bracelet: 4\n",
      "There are 5 bracelets in total.\n",
      "Number of pairs that have been used: 100\n"
     ]
    }
   ],
   "source": [
    "FindAllBracelets([1,5])"
   ]
  },
  {
   "cell_type": "code",
   "execution_count": 10,
   "id": "76bcdb1d-bf4c-438a-bf1d-ea764b80de8e",
   "metadata": {
    "tags": []
   },
   "outputs": [
    {
     "name": "stdout",
     "output_type": "stream",
     "text": [
      "Bracelet 1: [0, 0, 0]\n",
      "Number of pairs in this bracelet: 1\n",
      "Bracelet 2: [4, 0, 4, 4, 8, 2, 0, 2, 2, 4, 6, 0, 6, 6, 2, 8, 0, 8, 8, 6, 4, 0]\n",
      "Number of pairs in this bracelet: 20\n",
      "Bracelet 3: [4, 9, 3, 2, 5, 7, 2, 9, 1, 0, 1, 1, 2, 3, 5, 8, 3, 1, 4, 5, 9, 4, 3, 7, 0, 7, 7, 4, 1, 5, 6, 1, 7, 8, 5, 3, 8, 1, 9, 0, 9, 9, 8, 7, 5, 2, 7, 9, 6, 5, 1, 6, 7, 3, 0, 3, 3, 6, 9, 5, 4, 9]\n",
      "Number of pairs in this bracelet: 60\n",
      "Bracelet 4: [8, 9, 7, 6, 3, 9, 2, 1, 3, 4, 7, 1, 8, 9]\n",
      "Number of pairs in this bracelet: 12\n",
      "Bracelet 5: [0, 5, 5, 0, 5]\n",
      "Number of pairs in this bracelet: 3\n",
      "Bracelet 6: [4, 2, 6, 8, 4, 2]\n",
      "Number of pairs in this bracelet: 4\n",
      "There are 6 bracelets in total.\n",
      "Number of pairs that have been used: 100\n"
     ]
    }
   ],
   "source": [
    "FindAllBracelets([0,0])"
   ]
  },
  {
   "cell_type": "markdown",
   "id": "0f780be9-0ca9-4fcf-8e50-e8adc8fad495",
   "metadata": {},
   "source": [
    "We can conclude that, each pair of numbers has appeared in one bracelet. There are "
   ]
  }
 ],
 "metadata": {
  "kernelspec": {
   "display_name": "Python 3 (ipykernel)",
   "language": "python",
   "name": "python3"
  },
  "language_info": {
   "codemirror_mode": {
    "name": "ipython",
    "version": 3
   },
   "file_extension": ".py",
   "mimetype": "text/x-python",
   "name": "python",
   "nbconvert_exporter": "python",
   "pygments_lexer": "ipython3",
   "version": "3.11.5"
  }
 },
 "nbformat": 4,
 "nbformat_minor": 5
}
